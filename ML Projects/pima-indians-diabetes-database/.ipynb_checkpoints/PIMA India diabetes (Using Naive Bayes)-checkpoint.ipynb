{
 "cells": [
  {
   "cell_type": "markdown",
   "metadata": {},
   "source": [
    "### Naive-Bayes from scratch"
   ]
  },
  {
   "cell_type": "code",
   "execution_count": 1,
   "metadata": {},
   "outputs": [],
   "source": [
    "import csv\n",
    "import math\n",
    "import random"
   ]
  },
  {
   "cell_type": "code",
   "execution_count": 39,
   "metadata": {},
   "outputs": [],
   "source": [
    "# Function to load the dataset\n",
    "def loadcsv():\n",
    "    lines=csv.reader(open(r'diabetes.csv'))\n",
    "    dataset=list(lines)\n",
    "    for i in range (1,len(dataset)):\n",
    "        dataset[i]=[float(x) for x in dataset[i]]\n",
    "    return dataset[1:]"
   ]
  },
  {
   "cell_type": "code",
   "execution_count": 27,
   "metadata": {},
   "outputs": [],
   "source": [
    "# Splitting the dataset into training and test\n",
    "def splitDataset(dataset,splitRatio):\n",
    "    trainSize=int(len(dataset)*splitRatio)\n",
    "    trainSet=[]\n",
    "    copy=list(dataset)\n",
    "    while len(trainSet)<trainSize:\n",
    "        index=random.randrange(len(copy))\n",
    "        trainSet.append(copy.pop(index))\n",
    "    return [trainSet, copy]"
   ]
  },
  {
   "cell_type": "code",
   "execution_count": 11,
   "metadata": {},
   "outputs": [],
   "source": [
    "# Function to seperate data-values by class\n",
    "def seperateByClass(dataset):\n",
    "    seperated={}\n",
    "    for i in range (len(dataset)):\n",
    "        vector=dataset[i]\n",
    "        if(vector[-1] not in seperated):\n",
    "            seperated[vector[-1]]=[]\n",
    "        seperated[vector[-1]].append(vector)\n",
    "    return seperated"
   ]
  },
  {
   "cell_type": "code",
   "execution_count": 41,
   "metadata": {},
   "outputs": [],
   "source": [
    "# Function to compute mean\n",
    "def mean(numbers):\n",
    "    return sum(numbers)/float(len(numbers))"
   ]
  },
  {
   "cell_type": "code",
   "execution_count": 13,
   "metadata": {},
   "outputs": [],
   "source": [
    "# Function to calculate Standard-deviation\n",
    "def std(numbers):\n",
    "    avg=mean(numbers)\n",
    "    variance=sum([pow(x-avg,2) for x in numbers])/float(len(numbers)-1)\n",
    "    return math.sqrt(variance)"
   ]
  },
  {
   "cell_type": "code",
   "execution_count": 14,
   "metadata": {},
   "outputs": [],
   "source": [
    "def summarize(dataset):\n",
    "    summaries=[(mean(attributes),std(attributes)) for attributes in zip(*dataset)]\n",
    "    del(summaries[-1])\n",
    "    return summaries"
   ]
  },
  {
   "cell_type": "code",
   "execution_count": 29,
   "metadata": {},
   "outputs": [],
   "source": [
    "def summarizeByClass(dataset):\n",
    "    seperated=seperateByClass(dataset)\n",
    "    summaries={}\n",
    "    for classValue, instances in seperated.items():\n",
    "        summaries[classValue]=summarize(instances)\n",
    "    return summaries"
   ]
  },
  {
   "cell_type": "code",
   "execution_count": 16,
   "metadata": {},
   "outputs": [],
   "source": [
    "def calculateProb(x, mean, stdev):\n",
    "    exponent=math.exp(-(math.pow(x-mean,2)/(2*math.pow(stdev,2))))\n",
    "    return (1/(math.sqrt(2*math.pi)*stdev))*exponent"
   ]
  },
  {
   "cell_type": "code",
   "execution_count": 43,
   "metadata": {},
   "outputs": [],
   "source": [
    "def calculateClassProb(summaries, inputVector):\n",
    "    probabilities={}\n",
    "    for classValues, classSummaries in summaries.items():\n",
    "        probabilities[classValues]=1\n",
    "        for i in range(len(classSummaries)):\n",
    "            mean, stdev=classSummaries[i]\n",
    "            x=inputVector[i]\n",
    "            probabilities[classValues]*=calculateProb(x, mean, stdev)\n",
    "        return probabilities"
   ]
  },
  {
   "cell_type": "code",
   "execution_count": 46,
   "metadata": {},
   "outputs": [],
   "source": [
    "def predict(summaries, inputVector):\n",
    "    probabilities=calculateClassProb(summaries, inputVector)\n",
    "    bestLabel, bestProb = None, -1\n",
    "    for classValues, probability in probabilities.items():\n",
    "        if bestLabel is None or probability>bestProb:\n",
    "            bestProb=probability\n",
    "            bestLabel=classValues\n",
    "    return bestLabel"
   ]
  },
  {
   "cell_type": "code",
   "execution_count": 19,
   "metadata": {},
   "outputs": [],
   "source": [
    "def getPredictions(summaries, testSet):\n",
    "    predictions=[]\n",
    "    for i in range (len(testSet)):\n",
    "        result=predict(summaries, testSet[i])\n",
    "        predictions.append(result)\n",
    "    return predictions"
   ]
  },
  {
   "cell_type": "code",
   "execution_count": 48,
   "metadata": {},
   "outputs": [],
   "source": [
    "def getAccuracy(testSet, predictions):\n",
    "    correct=0\n",
    "    for x in range (len(testSet)):\n",
    "        if testSet[x][-1]==predictions[x]:\n",
    "            correct+=1\n",
    "    return (correct/float(len(testSet)))*100.0"
   ]
  },
  {
   "cell_type": "code",
   "execution_count": 61,
   "metadata": {},
   "outputs": [
    {
     "name": "stdout",
     "output_type": "stream",
     "text": [
      "Split 768 rows into train = 514 and test = 254 rows\n",
      "Accuracy: 68.89763779527559%\n"
     ]
    }
   ],
   "source": [
    "def main():\n",
    "    dataset=loadcsv()\n",
    "    trainingSet, testSet=splitDataset(dataset, 0.67)\n",
    "    print('Split {0} rows into train = {1} and test = {2} rows'.format(len(dataset), len(trainingSet), len(testSet)))\n",
    "    # Prepare model\n",
    "    summaries=summarizeByClass(trainingSet)\n",
    "    # Test Model\n",
    "    predictions=getPredictions(summaries, testSet)\n",
    "    accuracy=getAccuracy(testSet, predictions)\n",
    "    print('Accuracy: {}%'.format(accuracy))\n",
    "    \n",
    "main()"
   ]
  },
  {
   "cell_type": "code",
   "execution_count": null,
   "metadata": {},
   "outputs": [],
   "source": []
  },
  {
   "cell_type": "code",
   "execution_count": null,
   "metadata": {},
   "outputs": [],
   "source": []
  }
 ],
 "metadata": {
  "kernelspec": {
   "display_name": "Python 3",
   "language": "python",
   "name": "python3"
  },
  "language_info": {
   "codemirror_mode": {
    "name": "ipython",
    "version": 3
   },
   "file_extension": ".py",
   "mimetype": "text/x-python",
   "name": "python",
   "nbconvert_exporter": "python",
   "pygments_lexer": "ipython3",
   "version": "3.7.6"
  }
 },
 "nbformat": 4,
 "nbformat_minor": 4
}
